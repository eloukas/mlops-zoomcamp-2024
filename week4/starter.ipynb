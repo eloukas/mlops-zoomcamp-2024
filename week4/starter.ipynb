{
 "cells": [
  {
   "cell_type": "code",
   "execution_count": 4,
   "id": "2c51efaa",
   "metadata": {},
   "outputs": [
    {
     "name": "stdout",
     "output_type": "stream",
     "text": [
      "scikit-learn==1.4.2\n"
     ]
    }
   ],
   "source": [
    "import os\n",
    "import sys\n",
    "\n",
    "if os.name == \"nt\":  # For Windows\n",
    "    !pip freeze | findstr scikit-learn\n",
    "else:  # For Linux/macOS\n",
    "    !pip freeze | grep scikit-learn\n"
   ]
  },
  {
   "cell_type": "code",
   "execution_count": 5,
   "id": "4acf73a0-51b5-4663-9bb8-8eb947863e17",
   "metadata": {},
   "outputs": [
    {
     "name": "stdout",
     "output_type": "stream",
     "text": [
      "Python 3.10.14\n"
     ]
    }
   ],
   "source": [
    "!python -V"
   ]
  },
  {
   "cell_type": "code",
   "execution_count": 6,
   "id": "0ef880a0",
   "metadata": {},
   "outputs": [],
   "source": [
    "import pickle\n",
    "import pandas as pd"
   ]
  },
  {
   "cell_type": "code",
   "execution_count": 7,
   "id": "7836ccfd",
   "metadata": {},
   "outputs": [
    {
     "name": "stderr",
     "output_type": "stream",
     "text": [
      "c:\\Users\\kaslou\\anaconda3\\envs\\mlops-zoomcamp\\lib\\site-packages\\sklearn\\base.py:376: InconsistentVersionWarning: Trying to unpickle estimator DictVectorizer from version 1.5.0 when using version 1.4.2. This might lead to breaking code or invalid results. Use at your own risk. For more info please refer to:\n",
      "https://scikit-learn.org/stable/model_persistence.html#security-maintainability-limitations\n",
      "  warnings.warn(\n",
      "c:\\Users\\kaslou\\anaconda3\\envs\\mlops-zoomcamp\\lib\\site-packages\\sklearn\\base.py:376: InconsistentVersionWarning: Trying to unpickle estimator LinearRegression from version 1.5.0 when using version 1.4.2. This might lead to breaking code or invalid results. Use at your own risk. For more info please refer to:\n",
      "https://scikit-learn.org/stable/model_persistence.html#security-maintainability-limitations\n",
      "  warnings.warn(\n"
     ]
    }
   ],
   "source": [
    "with open(\"model.bin\", \"rb\") as f_in:\n",
    "    dv, model = pickle.load(f_in)"
   ]
  },
  {
   "cell_type": "code",
   "execution_count": 8,
   "id": "41c08294",
   "metadata": {},
   "outputs": [],
   "source": [
    "categorical = [\"PULocationID\", \"DOLocationID\"]\n",
    "\n",
    "\n",
    "def read_data(filename):\n",
    "    df = pd.read_parquet(filename)\n",
    "\n",
    "    df[\"duration\"] = df.tpep_dropoff_datetime - df.tpep_pickup_datetime\n",
    "    df[\"duration\"] = df.duration.dt.total_seconds() / 60\n",
    "\n",
    "    df = df[(df.duration >= 1) & (df.duration <= 60)].copy()\n",
    "\n",
    "    df[categorical] = df[categorical].fillna(-1).astype(\"int\").astype(\"str\")\n",
    "\n",
    "    return df"
   ]
  },
  {
   "cell_type": "code",
   "execution_count": 9,
   "id": "4854399a",
   "metadata": {},
   "outputs": [],
   "source": [
    "# Read Yellow Taxi Trip Records  March 2023 data\n",
    "url = \"https://d37ci6vzurychx.cloudfront.net/trip-data/yellow_tripdata_2023-03.parquet\"\n",
    "\n",
    "df = read_data(url)\n"
   ]
  },
  {
   "cell_type": "code",
   "execution_count": 10,
   "id": "669fda0a",
   "metadata": {},
   "outputs": [],
   "source": [
    "dicts = df[categorical].to_dict(orient=\"records\")\n",
    "X_val = dv.transform(dicts)\n",
    "y_pred = model.predict(X_val)"
   ]
  },
  {
   "cell_type": "markdown",
   "id": "020dffdc",
   "metadata": {},
   "source": [
    "## Q1. Notebook (Question 1)\n",
    "\n",
    "We'll start with the same notebook we ended up with in homework 1. We cleaned it a little bit and kept only the scoring part. You can find the initial notebook here.\n",
    "\n",
    "Run this notebook for the March 2023 data.\n",
    "\n",
    "What's the standard deviation of the predicted duration for this dataset?\n",
    "\n",
    "- 1.24\n",
    "- 6.24\n",
    "- 12.28\n",
    "- 18.28"
   ]
  },
  {
   "cell_type": "code",
   "execution_count": 12,
   "id": "bf532ae7-1897-428c-ba0c-875ccaf7d76c",
   "metadata": {},
   "outputs": [
    {
     "name": "stdout",
     "output_type": "stream",
     "text": [
      " The standard deviation of the predicted duration is 6.25 minutes\n"
     ]
    }
   ],
   "source": [
    "# Find the standard deviation of the predicted duration\n",
    "predicted_duration_std = y_pred.std()\n",
    "\n",
    "print(\n",
    "    f\" The standard deviation of the predicted duration is {predicted_duration_std:.2f} minutes\"\n",
    ")\n",
    "\n",
    "# The standard deviation of the predicted duration is 6.25 minutes\n",
    "# So, answer is option B, 6.24 (closest to 6.25)\n"
   ]
  },
  {
   "cell_type": "markdown",
   "id": "2ee60eb7",
   "metadata": {},
   "source": [
    "## Q2. Preparing the output \n",
    "\n",
    "Like in the course videos, we want to prepare the dataframe with the output.\n",
    "\n",
    "First, let's create an artificial ride_id column:\n",
    "\n",
    "`df['ride_id'] = f'{year:04d}/{month:02d}_' + df.index.astype('str')`\n",
    "\n",
    "Next, write the ride id and the predictions to a dataframe with results.\n",
    "\n",
    "Save it as parquet:\n",
    "\n",
    "```python\n",
    "df_result.to_parquet(\n",
    "    output_file,\n",
    "    engine='pyarrow',\n",
    "    compression=None,\n",
    "    index=False\n",
    ")\n",
    "```\n",
    "\n",
    "What's the size of the output file?\n",
    "\n",
    "- 36M\n",
    "- 46M\n",
    "- 56M\n",
    "- 66M\n",
    "\n",
    "Note: Make sure you use the snippet above for saving the file. It should contain only these two columns. For this question, don't change the dtypes of the columns and use pyarrow, not fastparquet."
   ]
  },
  {
   "cell_type": "code",
   "execution_count": 13,
   "id": "d1a71a9d",
   "metadata": {},
   "outputs": [
    {
     "data": {
      "text/html": [
       "<div>\n",
       "<style scoped>\n",
       "    .dataframe tbody tr th:only-of-type {\n",
       "        vertical-align: middle;\n",
       "    }\n",
       "\n",
       "    .dataframe tbody tr th {\n",
       "        vertical-align: top;\n",
       "    }\n",
       "\n",
       "    .dataframe thead th {\n",
       "        text-align: right;\n",
       "    }\n",
       "</style>\n",
       "<table border=\"1\" class=\"dataframe\">\n",
       "  <thead>\n",
       "    <tr style=\"text-align: right;\">\n",
       "      <th></th>\n",
       "      <th>ride_id</th>\n",
       "      <th>predicted_duration</th>\n",
       "    </tr>\n",
       "  </thead>\n",
       "  <tbody>\n",
       "    <tr>\n",
       "      <th>0</th>\n",
       "      <td>2023/03_0</td>\n",
       "      <td>16.245906</td>\n",
       "    </tr>\n",
       "    <tr>\n",
       "      <th>1</th>\n",
       "      <td>2023/03_1</td>\n",
       "      <td>26.134796</td>\n",
       "    </tr>\n",
       "    <tr>\n",
       "      <th>2</th>\n",
       "      <td>2023/03_2</td>\n",
       "      <td>11.884264</td>\n",
       "    </tr>\n",
       "    <tr>\n",
       "      <th>3</th>\n",
       "      <td>2023/03_3</td>\n",
       "      <td>11.997720</td>\n",
       "    </tr>\n",
       "    <tr>\n",
       "      <th>4</th>\n",
       "      <td>2023/03_4</td>\n",
       "      <td>10.234486</td>\n",
       "    </tr>\n",
       "  </tbody>\n",
       "</table>\n",
       "</div>"
      ],
      "text/plain": [
       "     ride_id  predicted_duration\n",
       "0  2023/03_0           16.245906\n",
       "1  2023/03_1           26.134796\n",
       "2  2023/03_2           11.884264\n",
       "3  2023/03_3           11.997720\n",
       "4  2023/03_4           10.234486"
      ]
     },
     "execution_count": 13,
     "metadata": {},
     "output_type": "execute_result"
    }
   ],
   "source": [
    "# First, let's create an artificial ride_id column\n",
    "\n",
    "year = 2023\n",
    "month = 3\n",
    "\n",
    "df[\"ride_id\"] = f\"{year:04d}/{month:02d}_\" + df.index.astype(\"str\")\n",
    "\n",
    "# Next, write the ride id and the predictions to a dataframe with results.\n",
    "\n",
    "results = pd.DataFrame({\"ride_id\": df[\"ride_id\"], \"predicted_duration\": y_pred})\n",
    "\n",
    "print(results.head())\n"
   ]
  },
  {
   "cell_type": "code",
   "execution_count": 14,
   "id": "7f4cdad9",
   "metadata": {},
   "outputs": [
    {
     "name": "stdout",
     "output_type": "stream",
     "text": [
      "Predictions saved to 2023-03-predictions.parquet\n"
     ]
    }
   ],
   "source": [
    "# Save it as parquet file\n",
    "\n",
    "output_file = f\"{year:04d}-{month:02d}-predictions.parquet\"\n",
    "\n",
    "results.to_parquet(output_file, engine=\"pyarrow\", compression=None, index=False)\n",
    "\n",
    "print(f\"Predictions saved to {output_file}\")\n"
   ]
  },
  {
   "cell_type": "code",
   "execution_count": 15,
   "id": "69122774",
   "metadata": {},
   "outputs": [
    {
     "name": "stdout",
     "output_type": "stream",
     "text": [
      "Size of the saved file is 65.46 MB\n"
     ]
    }
   ],
   "source": [
    "# What is the size of the saved file (in MB)?\n",
    "\n",
    "file_size = os.path.getsize(output_file) / (1024 * 1024)\n",
    "print(f\"Size of the saved file is {file_size:.2f} MB\")\n",
    "\n",
    "# Size of the saved file is 65.46 MB\n",
    "# So, answer is option C, 66MB (closest to 65.46)\n"
   ]
  },
  {
   "cell_type": "markdown",
   "id": "32d25b16",
   "metadata": {},
   "source": [
    "## Q3. Creating the scoring script\n",
    "\n",
    "Now let's turn the notebook into a script.\n",
    "\n",
    "Which command you need to execute for that?"
   ]
  },
  {
   "cell_type": "code",
   "execution_count": 16,
   "id": "9a9e015d",
   "metadata": {},
   "outputs": [
    {
     "name": "stderr",
     "output_type": "stream",
     "text": [
      "[NbConvertApp] Converting notebook starter.ipynb to script\n",
      "[NbConvertApp] Writing 3572 bytes to starter.py\n"
     ]
    },
    {
     "name": "stdout",
     "output_type": "stream",
     "text": [
      " Volume in drive C has no label.\n",
      " Volume Serial Number is E2F7-236A\n",
      "\n",
      " Directory of c:\\Users\\kaslou\\Desktop\\code\\mlops-zoomcamp-2024\\week4\n",
      "\n",
      "16-Jun-24  11:36 AM    <DIR>          .\n",
      "16-Jun-24  11:36 AM    <DIR>          ..\n",
      "16-Jun-24  11:33 AM        68,641,880 2023-03-predictions.parquet\n",
      "16-Jun-24  11:24 AM            17,376 model.bin\n",
      "16-Jun-24  11:34 AM            10,332 starter.ipynb\n",
      "16-Jun-24  11:36 AM             3,752 starter.py\n",
      "               4 File(s)     68,673,340 bytes\n",
      "               2 Dir(s)  162,013,110,272 bytes free\n"
     ]
    }
   ],
   "source": [
    "# Now, let's just turn the notebook into a script using jupyter nbconvert\n",
    "\n",
    "!jupyter nbconvert --to script --output-dir . starter.ipynb\n",
    "\n",
    "# List the files in the current directory (Windows or Linux/macOS)\n",
    "if os.name == \"nt\":  # For Windows\n",
    "    !dir\n",
    "else:\n",
    "    !ls -l\n",
    "\n",
    "# The script is saved as starter.py\n"
   ]
  },
  {
   "cell_type": "markdown",
   "id": "e515c140",
   "metadata": {},
   "source": [
    "## Q4. Virtual environment\n",
    "\n",
    "Now let's put everything into a virtual environment. We'll use pipenv for that.\n",
    "\n",
    "Install all the required libraries. Pay attention to the Scikit-Learn version: it should be the same as in the starter notebook.\n",
    "\n",
    "After installing the libraries, pipenv creates two files: `Pipfile` and `Pipfile.lock`. The Pipfile.lock file keeps the hashes of the dependencies we use for the virtual env.\n",
    "\n",
    "Question: What's the first hash for the Scikit-Learn dependency?"
   ]
  },
  {
   "cell_type": "code",
   "execution_count": 17,
   "id": "6966f02d",
   "metadata": {},
   "outputs": [],
   "source": [
    "# The first hash is \"sha256:1d0b25d9c651fd050555aadd57431b53d4cf664e749069da77f3d52c5ad14b3b\""
   ]
  },
  {
   "cell_type": "markdown",
   "id": "66ec2b1b",
   "metadata": {},
   "source": [
    "## Q5. Parametrize the script\n",
    "\n",
    "Let's now make the script configurable via CLI. We'll create two parameters: year and month.\n",
    "\n",
    "Run the script for April 2023.\n",
    "\n",
    "What's the mean predicted duration?\n",
    "\n",
    "- 7.29\n",
    "- 14.29\n",
    "- 21.29\n",
    "- 28.29\n",
    "\n",
    "Hint: just add a print statement to your script."
   ]
  },
  {
   "cell_type": "code",
   "execution_count": 18,
   "id": "2b8da9ee",
   "metadata": {},
   "outputs": [],
   "source": [
    "# For that, I switch to the starter.py script."
   ]
  },
  {
   "cell_type": "code",
   "execution_count": null,
   "id": "1e0c6dc1",
   "metadata": {},
   "outputs": [],
   "source": []
  }
 ],
 "metadata": {
  "kernelspec": {
   "display_name": "Python 3 (ipykernel)",
   "language": "python",
   "name": "python3"
  },
  "language_info": {
   "codemirror_mode": {
    "name": "ipython",
    "version": 3
   },
   "file_extension": ".py",
   "mimetype": "text/x-python",
   "name": "python",
   "nbconvert_exporter": "python",
   "pygments_lexer": "ipython3",
   "version": "3.10.14"
  }
 },
 "nbformat": 4,
 "nbformat_minor": 5
}
